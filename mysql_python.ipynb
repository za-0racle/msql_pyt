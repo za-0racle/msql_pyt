{
 "cells": [
  {
   "cell_type": "code",
   "execution_count": 3,
   "metadata": {},
   "outputs": [],
   "source": [
    "#import libraries \n",
    "\n",
    "import mysql.connector\n",
    "from mysql.connector import Error\n",
    "import pandas as pd "
   ]
  },
  {
   "cell_type": "code",
   "execution_count": 4,
   "metadata": {},
   "outputs": [
    {
     "name": "stdout",
     "output_type": "stream",
     "text": [
      "MySQL Database connection successful\n"
     ]
    }
   ],
   "source": [
    "import mysql.connector\n",
    "from mysql.connector import Error\n",
    "\n",
    "def create_server_connection(host_name, user_name, user_password):\n",
    "    connection = None\n",
    "    try:\n",
    "        connection = mysql.connector.connect(\n",
    "            host=host_name,\n",
    "            user=user_name,\n",
    "            passwd=user_password,\n",
    "        )\n",
    "        print(\"MySQL Database connection successful\")\n",
    "    except Error as err:\n",
    "        print(f\"Error: '{err}'\")\n",
    "    return connection\n",
    "\n",
    "# Put your MySQL server details\n",
    "host = \"localhost\"\n",
    "user = \"Oracle\"\n",
    "password = \"Oluwatobi@4994\"\n",
    "\n",
    "\n",
    "# Create a connection\n",
    "connection = create_server_connection(host, user, password)\n"
   ]
  },
  {
   "cell_type": "code",
   "execution_count": 5,
   "metadata": {},
   "outputs": [
    {
     "name": "stdout",
     "output_type": "stream",
     "text": [
      "Error: '1007 (HY000): Can't create database 'mysql_python'; database exists'\n"
     ]
    }
   ],
   "source": [
    "#Creating mysql_python database \n",
    "\n",
    "def create_database(connection, query):\n",
    "    cursor = connection.cursor()\n",
    "    try:\n",
    "        cursor.execute(query)\n",
    "        print(\"Database create successfully\")\n",
    "    except Error as err:\n",
    "        print(f\"Error: '{err}'\")\n",
    "create_database_query = \"create database mysql_python\"\n",
    "\n",
    "create_database( connection, create_database_query)"
   ]
  },
  {
   "cell_type": "code",
   "execution_count": 11,
   "metadata": {},
   "outputs": [],
   "source": [
    "#connect to database \n",
    "\n",
    "def create_db_connection(host_name, user_name, user_password, db_name):\n",
    "    connection = None \n",
    "    try: \n",
    "        connection = mysql.connector.connect(\n",
    "            host = host_name, \n",
    "            user = user_name, \n",
    "            password = user_password,\n",
    "            database = db_name)\n",
    "        print(\"MySQL Database connection successful\")\n",
    "    except Error as err:\n",
    "        print(f\"Error: '{err}'\")\n",
    "    return connection\n"
   ]
  },
  {
   "cell_type": "code",
   "execution_count": 7,
   "metadata": {},
   "outputs": [],
   "source": [
    "#execute sql queries \n",
    "\n",
    "def execute_query(connection, query):\n",
    "    cursor = connection.cursor()\n",
    "    try:\n",
    "        cursor.execute(query)\n",
    "        connection.commit()\n",
    "        print(\"Query was successful\")\n",
    "    except Error as err:\n",
    "        print(f\"Error: '{err}'\")\n",
    "  "
   ]
  },
  {
   "cell_type": "code",
   "execution_count": 17,
   "metadata": {},
   "outputs": [
    {
     "name": "stdout",
     "output_type": "stream",
     "text": [
      "MySQL Database connection successful\n",
      "Query was successful\n"
     ]
    }
   ],
   "source": [
    "create_orders_table = \"\"\" \n",
    "CREATE TABLE orders (\n",
    "    order_id INT PRIMARY KEY,\n",
    "    customer_name VARCHAR(30) NOT NULL,\n",
    "    product_name VARCHAR(30) NOT NULL,\n",
    "    date_ordered DATE,\n",
    "    quantity INT,\n",
    "    unit_price FLOAT, \n",
    "    phone_number VARCHAR(20))\n",
    "\"\"\"\n",
    "\n",
    "#connecting to database \n",
    "\n",
    "connection = create_db_connection(\"localhost\",\"Oracle\",password,\"mysql_python\") \n",
    "execute_query(connection, create_orders_table)\n"
   ]
  },
  {
   "cell_type": "code",
   "execution_count": 18,
   "metadata": {},
   "outputs": [
    {
     "name": "stdout",
     "output_type": "stream",
     "text": [
      "MySQL Database connection successful\n",
      "Query was successful\n"
     ]
    }
   ],
   "source": [
    "#insert data \n",
    "\n",
    "Data_orders = \"\"\"\n",
    "INSERT INTO orders (order_id, customer_name, product_name, date_ordered, quantity, unit_price, phone_number)\n",
    "VALUES\n",
    "    (201, 'Chinedu', 'Smartphone', '2023-01-15', 1, 50000.00, '08012345678'),\n",
    "    (202, 'Blessing', 'Laptop', '2023-03-20', 1, 80000.00, '08023456789'),\n",
    "    (203, 'Chinyere', 'Tablet', '2023-05-10', 2, 30000.00, '08034567890'),\n",
    "    (204, 'Emeka', 'Smartwatch', '2023-07-05', 1, 25000.00, '08045678901'),\n",
    "    (205, 'Aisha', 'Smart Speaker', '2023-09-12', 1, 15000.00, '08056789012'),\n",
    "    (206, 'Abdullahi', 'Earphones', '2023-11-18', 1, 5000.00, '08067890123'),\n",
    "    (207, 'Ifeoma', 'Bluetooth Headset', '2023-12-24', 1, 7000.00, '08078901234'),\n",
    "    (208, 'Chukwudi', 'External Hard Drive', '2024-02-08', 1, 12000.00, '08089012345'),\n",
    "    (209, 'Adeola', 'Wireless Mouse', '2024-04-14', 1, 3000.00, '08090123456'),\n",
    "    (210, 'Tolu', 'Smart TV', '2024-06-20', 1, 60000.00, '08001234567'),\n",
    "    (211, 'Chiamaka', 'Fitness Tracker', '2024-08-25', 1, 18000.00, '08012345678'),\n",
    "    (212, 'Chidinma', 'Gaming Console', '2024-10-30', 1, 40000.00, '08023456789'),\n",
    "    (213, 'Damilola', 'Digital Camera', '2024-12-05', 1, 25000.00, '08034567890');\n",
    "\"\"\"\n",
    "connection = create_db_connection(\"localhost\",\"Oracle\",password,\"mysql_python\") \n",
    "execute_query(connection, Data_orders)"
   ]
  },
  {
   "cell_type": "code",
   "execution_count": 19,
   "metadata": {},
   "outputs": [],
   "source": [
    "def read_query(connection, query):\n",
    "    cursor = connection.cursor()\n",
    "    result = None\n",
    "    try:\n",
    "       cursor.execute(query)\n",
    "       result = cursor.fetchall()\n",
    "       return result\n",
    "    except Error as err:\n",
    "        print(f\"Error: '{err}'\")\n",
    "    "
   ]
  },
  {
   "cell_type": "code",
   "execution_count": 23,
   "metadata": {},
   "outputs": [
    {
     "name": "stdout",
     "output_type": "stream",
     "text": [
      "MySQL Database connection successful\n",
      "(202, 'Blessing', 'Laptop', datetime.date(2023, 3, 20), 1, 80000.0, '08023456789')\n",
      "(210, 'Tolu', 'Smart TV', datetime.date(2024, 6, 20), 1, 60000.0, '08001234567')\n",
      "(201, 'Chinedu', 'Smartphone', datetime.date(2023, 1, 15), 1, 50000.0, '08012345678')\n",
      "(212, 'Chidinma', 'Gaming Console', datetime.date(2024, 10, 30), 1, 40000.0, '08023456789')\n",
      "(203, 'Chinyere', 'Tablet', datetime.date(2023, 5, 10), 2, 30000.0, '08034567890')\n",
      "(204, 'Emeka', 'Smartwatch', datetime.date(2023, 7, 5), 1, 25000.0, '08045678901')\n",
      "(213, 'Damilola', 'Digital Camera', datetime.date(2024, 12, 5), 1, 25000.0, '08034567890')\n",
      "(211, 'Chiamaka', 'Fitness Tracker', datetime.date(2024, 8, 25), 1, 18000.0, '08012345678')\n",
      "(205, 'Aisha', 'Smart Speaker', datetime.date(2023, 9, 12), 1, 15000.0, '08056789012')\n",
      "(208, 'Chukwudi', 'External Hard Drive', datetime.date(2024, 2, 8), 1, 12000.0, '08089012345')\n",
      "(207, 'Ifeoma', 'Bluetooth Headset', datetime.date(2023, 12, 24), 1, 7000.0, '08078901234')\n",
      "(206, 'Abdullahi', 'Earphones', datetime.date(2023, 11, 18), 1, 5000.0, '08067890123')\n",
      "(209, 'Adeola', 'Wireless Mouse', datetime.date(2024, 4, 14), 1, 3000.0, '08090123456')\n"
     ]
    }
   ],
   "source": [
    "#using the select statement \n",
    "\n",
    "q7 = \"\"\" \n",
    "select * from orders order by unit_price desc;\n",
    "\"\"\"\n",
    "connection = create_db_connection(\"localhost\",\"Oracle\",password,\"mysql_python\")\n",
    "results = read_query(connection, q7)\n",
    "for result in results:\n",
    "    print(result)"
   ]
  },
  {
   "cell_type": "code",
   "execution_count": 24,
   "metadata": {},
   "outputs": [
    {
     "data": {
      "text/html": [
       "<div>\n",
       "<style scoped>\n",
       "    .dataframe tbody tr th:only-of-type {\n",
       "        vertical-align: middle;\n",
       "    }\n",
       "\n",
       "    .dataframe tbody tr th {\n",
       "        vertical-align: top;\n",
       "    }\n",
       "\n",
       "    .dataframe thead th {\n",
       "        text-align: right;\n",
       "    }\n",
       "</style>\n",
       "<table border=\"1\" class=\"dataframe\">\n",
       "  <thead>\n",
       "    <tr style=\"text-align: right;\">\n",
       "      <th></th>\n",
       "      <th>order_id</th>\n",
       "      <th>customer_name</th>\n",
       "      <th>product_name</th>\n",
       "      <th>date_ordered</th>\n",
       "      <th>quantity</th>\n",
       "      <th>unit_price</th>\n",
       "      <th>phone_number</th>\n",
       "    </tr>\n",
       "  </thead>\n",
       "  <tbody>\n",
       "    <tr>\n",
       "      <th>0</th>\n",
       "      <td>202</td>\n",
       "      <td>Blessing</td>\n",
       "      <td>Laptop</td>\n",
       "      <td>2023-03-20</td>\n",
       "      <td>1</td>\n",
       "      <td>80000.0</td>\n",
       "      <td>08023456789</td>\n",
       "    </tr>\n",
       "    <tr>\n",
       "      <th>1</th>\n",
       "      <td>210</td>\n",
       "      <td>Tolu</td>\n",
       "      <td>Smart TV</td>\n",
       "      <td>2024-06-20</td>\n",
       "      <td>1</td>\n",
       "      <td>60000.0</td>\n",
       "      <td>08001234567</td>\n",
       "    </tr>\n",
       "    <tr>\n",
       "      <th>2</th>\n",
       "      <td>201</td>\n",
       "      <td>Chinedu</td>\n",
       "      <td>Smartphone</td>\n",
       "      <td>2023-01-15</td>\n",
       "      <td>1</td>\n",
       "      <td>50000.0</td>\n",
       "      <td>08012345678</td>\n",
       "    </tr>\n",
       "    <tr>\n",
       "      <th>3</th>\n",
       "      <td>212</td>\n",
       "      <td>Chidinma</td>\n",
       "      <td>Gaming Console</td>\n",
       "      <td>2024-10-30</td>\n",
       "      <td>1</td>\n",
       "      <td>40000.0</td>\n",
       "      <td>08023456789</td>\n",
       "    </tr>\n",
       "    <tr>\n",
       "      <th>4</th>\n",
       "      <td>203</td>\n",
       "      <td>Chinyere</td>\n",
       "      <td>Tablet</td>\n",
       "      <td>2023-05-10</td>\n",
       "      <td>2</td>\n",
       "      <td>30000.0</td>\n",
       "      <td>08034567890</td>\n",
       "    </tr>\n",
       "    <tr>\n",
       "      <th>5</th>\n",
       "      <td>204</td>\n",
       "      <td>Emeka</td>\n",
       "      <td>Smartwatch</td>\n",
       "      <td>2023-07-05</td>\n",
       "      <td>1</td>\n",
       "      <td>25000.0</td>\n",
       "      <td>08045678901</td>\n",
       "    </tr>\n",
       "    <tr>\n",
       "      <th>6</th>\n",
       "      <td>213</td>\n",
       "      <td>Damilola</td>\n",
       "      <td>Digital Camera</td>\n",
       "      <td>2024-12-05</td>\n",
       "      <td>1</td>\n",
       "      <td>25000.0</td>\n",
       "      <td>08034567890</td>\n",
       "    </tr>\n",
       "    <tr>\n",
       "      <th>7</th>\n",
       "      <td>211</td>\n",
       "      <td>Chiamaka</td>\n",
       "      <td>Fitness Tracker</td>\n",
       "      <td>2024-08-25</td>\n",
       "      <td>1</td>\n",
       "      <td>18000.0</td>\n",
       "      <td>08012345678</td>\n",
       "    </tr>\n",
       "    <tr>\n",
       "      <th>8</th>\n",
       "      <td>205</td>\n",
       "      <td>Aisha</td>\n",
       "      <td>Smart Speaker</td>\n",
       "      <td>2023-09-12</td>\n",
       "      <td>1</td>\n",
       "      <td>15000.0</td>\n",
       "      <td>08056789012</td>\n",
       "    </tr>\n",
       "    <tr>\n",
       "      <th>9</th>\n",
       "      <td>208</td>\n",
       "      <td>Chukwudi</td>\n",
       "      <td>External Hard Drive</td>\n",
       "      <td>2024-02-08</td>\n",
       "      <td>1</td>\n",
       "      <td>12000.0</td>\n",
       "      <td>08089012345</td>\n",
       "    </tr>\n",
       "    <tr>\n",
       "      <th>10</th>\n",
       "      <td>207</td>\n",
       "      <td>Ifeoma</td>\n",
       "      <td>Bluetooth Headset</td>\n",
       "      <td>2023-12-24</td>\n",
       "      <td>1</td>\n",
       "      <td>7000.0</td>\n",
       "      <td>08078901234</td>\n",
       "    </tr>\n",
       "    <tr>\n",
       "      <th>11</th>\n",
       "      <td>206</td>\n",
       "      <td>Abdullahi</td>\n",
       "      <td>Earphones</td>\n",
       "      <td>2023-11-18</td>\n",
       "      <td>1</td>\n",
       "      <td>5000.0</td>\n",
       "      <td>08067890123</td>\n",
       "    </tr>\n",
       "    <tr>\n",
       "      <th>12</th>\n",
       "      <td>209</td>\n",
       "      <td>Adeola</td>\n",
       "      <td>Wireless Mouse</td>\n",
       "      <td>2024-04-14</td>\n",
       "      <td>1</td>\n",
       "      <td>3000.0</td>\n",
       "      <td>08090123456</td>\n",
       "    </tr>\n",
       "  </tbody>\n",
       "</table>\n",
       "</div>"
      ],
      "text/plain": [
       "    order_id customer_name         product_name date_ordered  quantity  \\\n",
       "0        202      Blessing               Laptop   2023-03-20         1   \n",
       "1        210          Tolu             Smart TV   2024-06-20         1   \n",
       "2        201       Chinedu           Smartphone   2023-01-15         1   \n",
       "3        212      Chidinma       Gaming Console   2024-10-30         1   \n",
       "4        203      Chinyere               Tablet   2023-05-10         2   \n",
       "5        204         Emeka           Smartwatch   2023-07-05         1   \n",
       "6        213      Damilola       Digital Camera   2024-12-05         1   \n",
       "7        211      Chiamaka      Fitness Tracker   2024-08-25         1   \n",
       "8        205         Aisha        Smart Speaker   2023-09-12         1   \n",
       "9        208      Chukwudi  External Hard Drive   2024-02-08         1   \n",
       "10       207        Ifeoma    Bluetooth Headset   2023-12-24         1   \n",
       "11       206     Abdullahi            Earphones   2023-11-18         1   \n",
       "12       209        Adeola       Wireless Mouse   2024-04-14         1   \n",
       "\n",
       "    unit_price phone_number  \n",
       "0      80000.0  08023456789  \n",
       "1      60000.0  08001234567  \n",
       "2      50000.0  08012345678  \n",
       "3      40000.0  08023456789  \n",
       "4      30000.0  08034567890  \n",
       "5      25000.0  08045678901  \n",
       "6      25000.0  08034567890  \n",
       "7      18000.0  08012345678  \n",
       "8      15000.0  08056789012  \n",
       "9      12000.0  08089012345  \n",
       "10      7000.0  08078901234  \n",
       "11      5000.0  08067890123  \n",
       "12      3000.0  08090123456  "
      ]
     },
     "metadata": {},
     "output_type": "display_data"
    }
   ],
   "source": [
    "#create dataframe \n",
    "\n",
    "from_db = []\n",
    "\n",
    "for result in results:\n",
    "    result = list(result)\n",
    "    from_db.append(result)\n",
    "columns = [\"order_id\", \"customer_name\", \"product_name\", \"date_ordered\", \"quantity\", \"unit_price\", \"phone_number\"]\n",
    "\n",
    "df = pd.DataFrame(from_db, columns = columns)\n",
    "\n",
    "display(df)"
   ]
  },
  {
   "cell_type": "code",
   "execution_count": 25,
   "metadata": {},
   "outputs": [
    {
     "name": "stdout",
     "output_type": "stream",
     "text": [
      "MySQL Database connection successful\n",
      "Query was successful\n"
     ]
    }
   ],
   "source": [
    "#update command \n",
    "\n",
    "update = \"\"\"\n",
    "update orders \n",
    "set unit_price = 8000\n",
    "where order_id = 207\n",
    "\"\"\"\n",
    "connection = create_db_connection(\"localhost\",\"Oracle\",password,\"mysql_python\") \n",
    "execute_query(connection, update)\n"
   ]
  },
  {
   "cell_type": "code",
   "execution_count": 26,
   "metadata": {},
   "outputs": [
    {
     "name": "stdout",
     "output_type": "stream",
     "text": [
      "MySQL Database connection successful\n",
      "(207, 'Ifeoma', 'Bluetooth Headset', datetime.date(2023, 12, 24), 1, 8000.0, '08078901234')\n"
     ]
    }
   ],
   "source": [
    "q8 = \"\"\" \n",
    "select * from orders where order_id = 207 desc;\n",
    "\"\"\"\n",
    "connection = create_db_connection(\"localhost\",\"Oracle\",password,\"mysql_python\")\n",
    "results = read_query(connection, q8)\n",
    "for result in results:\n",
    "    print(result)"
   ]
  },
  {
   "cell_type": "code",
   "execution_count": 32,
   "metadata": {},
   "outputs": [
    {
     "name": "stdout",
     "output_type": "stream",
     "text": [
      "MySQL Database connection successful\n",
      "Query was successful\n"
     ]
    }
   ],
   "source": [
    "#delete command \n",
    "\n",
    "delete_order = \"\"\"\n",
    "delete from orders \n",
    "where order_id = 202;\n",
    "\"\"\"\n",
    "connection = create_db_connection(\"localhost\",\"Oracle\",password,\"mysql_python\") \n",
    "execute_query(connection, delete_order)"
   ]
  },
  {
   "cell_type": "code",
   "execution_count": 33,
   "metadata": {},
   "outputs": [
    {
     "name": "stdout",
     "output_type": "stream",
     "text": [
      "MySQL Database connection successful\n",
      "(201, 'Chinedu', 'Smartphone', datetime.date(2023, 1, 15), 1, 50000.0, '08012345678')\n",
      "(203, 'Chinyere', 'Tablet', datetime.date(2023, 5, 10), 2, 30000.0, '08034567890')\n",
      "(204, 'Emeka', 'Smartwatch', datetime.date(2023, 7, 5), 1, 25000.0, '08045678901')\n",
      "(205, 'Aisha', 'Smart Speaker', datetime.date(2023, 9, 12), 1, 15000.0, '08056789012')\n",
      "(206, 'Abdullahi', 'Earphones', datetime.date(2023, 11, 18), 1, 5000.0, '08067890123')\n",
      "(207, 'Ifeoma', 'Bluetooth Headset', datetime.date(2023, 12, 24), 1, 8000.0, '08078901234')\n",
      "(208, 'Chukwudi', 'External Hard Drive', datetime.date(2024, 2, 8), 1, 12000.0, '08089012345')\n",
      "(209, 'Adeola', 'Wireless Mouse', datetime.date(2024, 4, 14), 1, 3000.0, '08090123456')\n",
      "(210, 'Tolu', 'Smart TV', datetime.date(2024, 6, 20), 1, 60000.0, '08001234567')\n",
      "(211, 'Chiamaka', 'Fitness Tracker', datetime.date(2024, 8, 25), 1, 18000.0, '08012345678')\n",
      "(212, 'Chidinma', 'Gaming Console', datetime.date(2024, 10, 30), 1, 40000.0, '08023456789')\n",
      "(213, 'Damilola', 'Digital Camera', datetime.date(2024, 12, 5), 1, 25000.0, '08034567890')\n"
     ]
    }
   ],
   "source": [
    "q10 = \"\"\" \n",
    "select * from orders;\n",
    "\"\"\"\n",
    "connection = create_db_connection(\"localhost\",\"Oracle\",password,\"mysql_python\")\n",
    "results = read_query(connection, q10)\n",
    "for result in results:\n",
    "    print(result)"
   ]
  },
  {
   "cell_type": "code",
   "execution_count": null,
   "metadata": {},
   "outputs": [],
   "source": [
    "C:\\Users\\HP PC\\Desktop\\DATA CLASS\\mysql_python script.ipynb"
   ]
  }
 ],
 "metadata": {
  "kernelspec": {
   "display_name": "Python 3",
   "language": "python",
   "name": "python3"
  },
  "language_info": {
   "codemirror_mode": {
    "name": "ipython",
    "version": 3
   },
   "file_extension": ".py",
   "mimetype": "text/x-python",
   "name": "python",
   "nbconvert_exporter": "python",
   "pygments_lexer": "ipython3",
   "version": "3.12.2"
  }
 },
 "nbformat": 4,
 "nbformat_minor": 2
}
